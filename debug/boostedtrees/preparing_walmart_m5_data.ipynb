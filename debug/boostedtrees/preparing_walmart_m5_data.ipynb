{
 "cells": [
  {
   "cell_type": "markdown",
   "metadata": {
    "application/vnd.databricks.v1+cell": {
     "cellMetadata": {},
     "inputWidgets": {},
     "nuid": "509c817f-1323-4b40-94cf-5874f9d82de4",
     "showTitle": false,
     "title": ""
    }
   },
   "source": [
    "# Preparing the walmart data. \n",
    "\n",
    "AIM: The notebook helps download walmart data and turn it to a format similar to M&S hierarchical data. [Link to the dataset](https://www.kaggle.com/competitions/m5-forecasting-accuracy)"
   ]
  },
  {
   "cell_type": "markdown",
   "metadata": {
    "application/vnd.databricks.v1+cell": {
     "cellMetadata": {},
     "inputWidgets": {},
     "nuid": "d93e180a-3912-445b-9b51-af90bf909eea",
     "showTitle": false,
     "title": ""
    }
   },
   "source": [
    "<br></br>\n",
    "<div style=\"text-align: center; line-height: 5; padding-top: 20px;  padding-bottom: 20px;\">\n",
    "  <img src=\"https://raw.githubusercontent.com/puneet-jain159/Image_dump/2a8b03eef9bd111b98b261846d57b72ce98fde38/walmart_data_description.png\" alt='Push compute' height=\"1000\" width=\"1600\">\n",
    "</div>"
   ]
  },
  {
   "cell_type": "markdown",
   "metadata": {
    "application/vnd.databricks.v1+cell": {
     "cellMetadata": {},
     "inputWidgets": {},
     "nuid": "840ad0a4-6011-4045-9f66-f94f20e7d2ef",
     "showTitle": false,
     "title": ""
    }
   },
   "source": [
    "### Install Dependencies"
   ]
  },
  {
   "cell_type": "code",
   "execution_count": 0,
   "metadata": {
    "application/vnd.databricks.v1+cell": {
     "cellMetadata": {
      "byteLimit": 2048000,
      "rowLimit": 10000
     },
     "inputWidgets": {},
     "nuid": "b4b8cee5-9472-4c61-8f8b-2ce72c3ff048",
     "showTitle": false,
     "title": ""
    }
   },
   "outputs": [],
   "source": [
    "import pandas as pd\n",
    "import numpy as np"
   ]
  },
  {
   "cell_type": "markdown",
   "metadata": {
    "application/vnd.databricks.v1+cell": {
     "cellMetadata": {},
     "inputWidgets": {},
     "nuid": "643cdde7-0b73-48eb-8717-59add0d8272e",
     "showTitle": false,
     "title": ""
    }
   },
   "source": [
    "### Clone Data from Kaggle"
   ]
  },
  {
   "cell_type": "code",
   "execution_count": 0,
   "metadata": {
    "application/vnd.databricks.v1+cell": {
     "cellMetadata": {
      "byteLimit": 2048000,
      "rowLimit": 10000
     },
     "inputWidgets": {},
     "nuid": "b231ed88-0ba4-4e9e-aff8-fca5e7a6939b",
     "showTitle": false,
     "title": ""
    }
   },
   "outputs": [],
   "source": [
    "dbutils.widgets.dropdown(\"reset\", \"False\", [\"True\", \"False\"], label=\"reset data?\")"
   ]
  },
  {
   "cell_type": "code",
   "execution_count": 0,
   "metadata": {
    "application/vnd.databricks.v1+cell": {
     "cellMetadata": {
      "byteLimit": 2048000,
      "rowLimit": 10000
     },
     "inputWidgets": {},
     "nuid": "12d04d8b-16e9-4bb3-ba39-a5452ff9cd31",
     "showTitle": false,
     "title": ""
    }
   },
   "outputs": [],
   "source": [
    "# dbutils.widgets.removeAll()"
   ]
  },
  {
   "cell_type": "markdown",
   "metadata": {
    "application/vnd.databricks.v1+cell": {
     "cellMetadata": {},
     "inputWidgets": {},
     "nuid": "cbc058be-08c5-49b7-9845-1ac622ef5b48",
     "showTitle": false,
     "title": ""
    }
   },
   "source": [
    "Below is shell script to download the data from kaggle .</br> You will need to sign in and generate access key to download the data and also agree to the data disclaimer other will hit a 403 error</br> After downloading to the local disk the data is copied to dbfs\n",
    "```\n",
    "kaggle competitions download -c m5-forecasting-accuracy -p /dbfs/walmart/data/\n",
    "```"
   ]
  },
  {
   "cell_type": "code",
   "execution_count": 0,
   "metadata": {
    "application/vnd.databricks.v1+cell": {
     "cellMetadata": {
      "byteLimit": 2048000,
      "rowLimit": 10000
     },
     "inputWidgets": {},
     "nuid": "3a54c71c-ca1f-45d2-9e32-dd9a8ddfb8e9",
     "showTitle": false,
     "title": ""
    }
   },
   "outputs": [],
   "source": [
    "%pip install kaggle"
   ]
  },
  {
   "cell_type": "code",
   "execution_count": 0,
   "metadata": {
    "application/vnd.databricks.v1+cell": {
     "cellMetadata": {
      "byteLimit": 2048000,
      "rowLimit": 10000
     },
     "inputWidgets": {},
     "nuid": "fa710f81-e3b4-44ed-a90b-c25d500c5976",
     "showTitle": false,
     "title": ""
    }
   },
   "outputs": [],
   "source": [
    "dbutils.library.restartPython()"
   ]
  },
  {
   "cell_type": "code",
   "execution_count": 0,
   "metadata": {
    "application/vnd.databricks.v1+cell": {
     "cellMetadata": {
      "byteLimit": 2048000,
      "rowLimit": 10000
     },
     "inputWidgets": {},
     "nuid": "7d11c240-2332-4e16-aa75-429a323ad6fe",
     "showTitle": false,
     "title": ""
    }
   },
   "outputs": [],
   "source": [
    "# create a scope or use an existing scope to put keys\n",
    "# databricks secrets put --scope tokens --key kaggle_key --string-value <string value>\n",
    "\n",
    "import os\n",
    "\n",
    "kaggle_key = dbutils.secrets.get(\"tokens\", \"kaggle_key\")\n",
    "os.environ['KAGGLE_USERNAME']=\"cchalc\"\n",
    "os.environ['KAGGLE_KEY']=kaggle_key\n",
    "project = \"boostedtrees\""
   ]
  },
  {
   "cell_type": "code",
   "execution_count": 0,
   "metadata": {
    "application/vnd.databricks.v1+cell": {
     "cellMetadata": {
      "byteLimit": 2048000,
      "rowLimit": 10000
     },
     "inputWidgets": {},
     "nuid": "8165e5ce-89f0-4953-aabc-2b3173f7d12c",
     "showTitle": false,
     "title": ""
    }
   },
   "outputs": [],
   "source": [
    "dbutils.fs.rm(\"/Users/christopher.chalcraft@databricks.com/boostedtrees\", recurse=True)"
   ]
  },
  {
   "cell_type": "code",
   "execution_count": 0,
   "metadata": {
    "application/vnd.databricks.v1+cell": {
     "cellMetadata": {
      "byteLimit": 2048000,
      "rowLimit": 10000
     },
     "inputWidgets": {},
     "nuid": "c2e80980-78dd-480a-ba8f-ad72c80bb958",
     "showTitle": false,
     "title": ""
    }
   },
   "outputs": [],
   "source": [
    "base_path = f\"/Users/christopher.chalcraft@databricks.com/{project}\"\n",
    "dbutils.fs.mkdirs(base_path)\n",
    "\n",
    "print(\"Use this to copy into shell script: /dbfs\" + base_path)"
   ]
  },
  {
   "cell_type": "code",
   "execution_count": 0,
   "metadata": {
    "application/vnd.databricks.v1+cell": {
     "cellMetadata": {
      "byteLimit": 2048000,
      "rowLimit": 10000
     },
     "inputWidgets": {},
     "nuid": "83ed89bf-aea9-4f07-b319-1b780e7f53a5",
     "showTitle": false,
     "title": ""
    }
   },
   "outputs": [],
   "source": [
    "%sh\n",
    "kaggle competitions download -c m5-forecasting-accuracy -p /dbfs/Users/christopher.chalcraft@databricks.com/boostedtrees\n",
    "cd /dbfs/Users/christopher.chalcraft@databricks.com/boostedtrees &&  unzip /dbfs/Users/christopher.chalcraft@databricks.com/boostedtrees/m5-forecasting-accuracy.zip "
   ]
  },
  {
   "cell_type": "code",
   "execution_count": 0,
   "metadata": {
    "application/vnd.databricks.v1+cell": {
     "cellMetadata": {
      "byteLimit": 2048000,
      "rowLimit": 10000
     },
     "inputWidgets": {},
     "nuid": "d097afaf-d79a-42b3-a2e0-e8fe2e23ddb0",
     "showTitle": true,
     "title": "List all the files downloaded"
    }
   },
   "outputs": [],
   "source": [
    "dbutils.fs.ls(base_path)"
   ]
  },
  {
   "cell_type": "markdown",
   "metadata": {
    "application/vnd.databricks.v1+cell": {
     "cellMetadata": {},
     "inputWidgets": {},
     "nuid": "7753d064-07a1-4de1-9680-ee506a6cc6ba",
     "showTitle": false,
     "title": ""
    }
   },
   "source": [
    "### Read the downloaded data and analyize all the different files"
   ]
  },
  {
   "cell_type": "code",
   "execution_count": 0,
   "metadata": {
    "application/vnd.databricks.v1+cell": {
     "cellMetadata": {
      "byteLimit": 2048000,
      "rowLimit": 10000
     },
     "inputWidgets": {},
     "nuid": "f7c36551-2af2-4a01-9d4a-06e6ac946dff",
     "showTitle": false,
     "title": ""
    }
   },
   "outputs": [],
   "source": [
    "sdf_calendar = spark.read.csv(f'{base_path}/calendar.csv', header=\"True\")\n",
    "sdf_calendar.cache()\n",
    "print(sdf_calendar.count())\n",
    "sdf_calendar.display()"
   ]
  },
  {
   "cell_type": "code",
   "execution_count": 0,
   "metadata": {
    "application/vnd.databricks.v1+cell": {
     "cellMetadata": {
      "byteLimit": 2048000,
      "rowLimit": 10000
     },
     "inputWidgets": {},
     "nuid": "15f55d64-afde-4f1b-8526-5ab54b1ff208",
     "showTitle": false,
     "title": ""
    }
   },
   "outputs": [],
   "source": [
    "sdf_sales_train_evaluation = spark.read.csv(f'{base_path}/sales_train_evaluation.csv', header=\"True\")\n",
    "sdf_sales_train_evaluation.cache()\n",
    "print( sdf_sales_train_evaluation.count())\n",
    "sdf_sales_train_evaluation.display()"
   ]
  },
  {
   "cell_type": "code",
   "execution_count": 0,
   "metadata": {
    "application/vnd.databricks.v1+cell": {
     "cellMetadata": {
      "byteLimit": 2048000,
      "rowLimit": 10000
     },
     "inputWidgets": {},
     "nuid": "91a5a3d3-1073-4d3a-aa51-d4b366fcf7a8",
     "showTitle": false,
     "title": ""
    }
   },
   "outputs": [],
   "source": [
    "sdf_sell_prices= spark.read.csv(f'{base_path}/sell_prices.csv', header=\"True\")\n",
    "sdf_sell_prices.cache()\n",
    "print( sdf_sell_prices.count())\n",
    "sdf_sell_prices.display()"
   ]
  },
  {
   "cell_type": "markdown",
   "metadata": {
    "application/vnd.databricks.v1+cell": {
     "cellMetadata": {},
     "inputWidgets": {},
     "nuid": "d96f2c32-154c-462f-939d-9c3d23e2f522",
     "showTitle": false,
     "title": ""
    }
   },
   "source": [
    "### Transformation and clean the data\n",
    "We transform and melt the column into rows"
   ]
  },
  {
   "cell_type": "code",
   "execution_count": 0,
   "metadata": {
    "application/vnd.databricks.v1+cell": {
     "cellMetadata": {
      "byteLimit": 2048000,
      "rowLimit": 10000
     },
     "inputWidgets": {},
     "nuid": "9026e337-bae5-4282-9bf4-49066bf2acc7",
     "showTitle": false,
     "title": ""
    }
   },
   "outputs": [],
   "source": [
    "# make sure these are created beforehand\n",
    "spark.sql(\"use catalog cjc\")\n",
    "spark.sql(\"use schema scratch\")"
   ]
  },
  {
   "cell_type": "code",
   "execution_count": 0,
   "metadata": {
    "application/vnd.databricks.v1+cell": {
     "cellMetadata": {
      "byteLimit": 2048000,
      "rowLimit": 10000
     },
     "inputWidgets": {},
     "nuid": "f2e2d2d8-539a-40fe-85fb-1313a2b07d51",
     "showTitle": false,
     "title": ""
    }
   },
   "outputs": [],
   "source": [
    "ids =['id','item_id','dept_id','cat_id','store_id','state_id'] \n",
    "cols = [col for col in sdf_sales_train_evaluation.columns if col not in ids ] \n",
    "\n",
    "# pivot the data\n",
    "sdf_sales_train_evaluation_pivot = (sdf_sales_train_evaluation.melt(\n",
    "    ids=ids, values=cols,\n",
    "    variableColumnName=\"date\", valueColumnName=\"sale_quantity\"))\n",
    "\n",
    "# sdf_sales_train_evaluation_pivot.write.mode(\"overwrite\").format('delta').save(f'{base_path}/clean_data/sdf_sales_train_evaluation/')\n",
    "sdf_sales_train_evaluation_pivot.write.mode(\"overwrite\").saveAsTable(\"m5_sales_train_evaluation\")"
   ]
  },
  {
   "cell_type": "code",
   "execution_count": 0,
   "metadata": {
    "application/vnd.databricks.v1+cell": {
     "cellMetadata": {
      "byteLimit": 2048000,
      "rowLimit": 10000
     },
     "inputWidgets": {},
     "nuid": "254b6dad-e0f0-4dc2-a65e-7532cd5fd08e",
     "showTitle": false,
     "title": ""
    }
   },
   "outputs": [],
   "source": [
    "# sdf_sell_prices.filter((sdf_sell_prices.item_id == 'HOUSEHOLD_1_335') & (sdf_sell_prices.wm_yr_wk == '11105') & (sdf_sell_prices.store_id == 'CA_2')).display()"
   ]
  },
  {
   "cell_type": "code",
   "execution_count": 0,
   "metadata": {
    "application/vnd.databricks.v1+cell": {
     "cellMetadata": {
      "byteLimit": 2048000,
      "rowLimit": 10000
     },
     "inputWidgets": {},
     "nuid": "8e5ba89e-d802-40f3-9042-ce13e2c02191",
     "showTitle": false,
     "title": ""
    }
   },
   "outputs": [],
   "source": [
    "# merge to get date \n",
    "sdf_calendar = sdf_calendar.withColumnRenamed(\"date\", 'date_time')\n",
    "cond = [sdf_sales_train_evaluation_pivot.date == sdf_calendar.d]\n",
    "sdf_sales_train_evaluation_pivot = sdf_sales_train_evaluation_pivot.join(sdf_calendar.select(['d','wm_yr_wk','date_time']),cond, 'left')\n",
    "\n",
    "# merge to get sales price\n",
    "cond = [sdf_sales_train_evaluation_pivot.wm_yr_wk == sdf_sell_prices.wm_yr_wk,\n",
    "        sdf_sales_train_evaluation_pivot.item_id == sdf_sell_prices.item_id,\n",
    "        sdf_sales_train_evaluation_pivot.store_id == sdf_sell_prices.store_id ]\n",
    "final_table = sdf_sales_train_evaluation_pivot.join(sdf_sell_prices,cond, 'left'). \\\n",
    "      select(sdf_sales_train_evaluation_pivot.item_id,sdf_sales_train_evaluation_pivot.dept_id,\n",
    "             sdf_sales_train_evaluation_pivot.cat_id,sdf_sales_train_evaluation_pivot.store_id,\n",
    "             sdf_sales_train_evaluation_pivot.state_id ,sdf_sales_train_evaluation_pivot.date_time,\n",
    "             sdf_sell_prices.sell_price ,sdf_sales_train_evaluation_pivot.sale_quantity)\n",
    "\n",
    "# write out the final table\n",
    "# final_table.write.mode(\"overwrite\").format('delta').save('dbfs:/walmart/data/clean_data/final_cleaned_table/')\n",
    "final_table.write.mode(\"overwrite\").saveAsTable(\"m5_final_cleaned_table\")"
   ]
  },
  {
   "cell_type": "code",
   "execution_count": 0,
   "metadata": {
    "application/vnd.databricks.v1+cell": {
     "cellMetadata": {
      "byteLimit": 2048000,
      "rowLimit": 10000
     },
     "inputWidgets": {},
     "nuid": "ef92d343-535a-439f-ad85-b8b1b655cf0a",
     "showTitle": false,
     "title": ""
    }
   },
   "outputs": [],
   "source": [
    "# Clean the final table \n",
    "\n",
    "# remove nulls sell_price and sales_quantity = 0 \n",
    "final_table = final_table.filter(final_table.sale_quantity > 0)\n",
    "display(final_table)"
   ]
  },
  {
   "cell_type": "markdown",
   "metadata": {
    "application/vnd.databricks.v1+cell": {
     "cellMetadata": {},
     "inputWidgets": {},
     "nuid": "5771ee2a-1b1c-40a3-a688-6bcffe874c6d",
     "showTitle": false,
     "title": ""
    }
   },
   "source": [
    "### Write out the final table as a Delta Table"
   ]
  },
  {
   "cell_type": "code",
   "execution_count": 0,
   "metadata": {
    "application/vnd.databricks.v1+cell": {
     "cellMetadata": {
      "byteLimit": 2048000,
      "rowLimit": 10000
     },
     "inputWidgets": {},
     "nuid": "66188230-b06b-4847-826d-7d89b717a3b0",
     "showTitle": false,
     "title": ""
    }
   },
   "outputs": [],
   "source": [
    "#\n",
    "# final_table.write.mode(\"overwrite\").format('delta').save('dbfs:/walmart/data/clean_data/final_cleaned_filtered')\n",
    "final_table.write.mode(\"overwrite\").saveAsTable('m5_final_cleaned_filtered')\n"
   ]
  },
  {
   "cell_type": "code",
   "execution_count": 0,
   "metadata": {
    "application/vnd.databricks.v1+cell": {
     "cellMetadata": {},
     "inputWidgets": {},
     "nuid": "1e5c73da-67cc-493d-bbe1-eb936660e1b6",
     "showTitle": false,
     "title": ""
    }
   },
   "outputs": [],
   "source": []
  }
 ],
 "metadata": {
  "application/vnd.databricks.v1+notebook": {
   "dashboards": [],
   "language": "python",
   "notebookMetadata": {
    "mostRecentlyExecutedCommandWithImplicitDF": {
     "commandId": 1728814239976388,
     "dataframes": [
      "_sqldf"
     ]
    },
    "pythonIndentUnit": 2
   },
   "notebookName": "preparing_walmart_m5_data",
   "widgets": {
    "reset": {
     "currentValue": "False",
     "nuid": "e47906bf-b4d7-4ebf-b387-dfeb546a4488",
     "widgetInfo": {
      "widgetType": "dropdown",
      "defaultValue": "False",
      "label": "reset data?",
      "name": "reset",
      "options": {
       "widgetType": "dropdown",
       "choices": [
        "True",
        "False"
       ]
      }
     }
    }
   }
  },
  "kernelspec": {
   "display_name": "base",
   "language": "python",
   "name": "python3"
  },
  "language_info": {
   "name": "python",
   "version": "3.10.6"
  }
 },
 "nbformat": 4,
 "nbformat_minor": 0
}
